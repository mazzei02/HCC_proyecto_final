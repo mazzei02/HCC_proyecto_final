{
 "cells": [
  {
   "cell_type": "markdown",
   "id": "5dDC06F6Yx4g",
   "metadata": {
    "id": "5dDC06F6Yx4g"
   },
   "source": [
    "# Trabajo final HCC"
   ]
  },
  {
   "cell_type": "code",
   "execution_count": 1,
   "id": "ltV15srQVH9U",
   "metadata": {
    "executionInfo": {
     "elapsed": 999,
     "status": "ok",
     "timestamp": 1716902107807,
     "user": {
      "displayName": "Ramiro Irastorza",
      "userId": "11166984441022487147"
     },
     "user_tz": 180
    },
    "id": "ltV15srQVH9U"
   },
   "outputs": [],
   "source": [
    "import numpy as np\n",
    "from PIL import Image\n",
    "import sys\n",
    "import os\n",
    "import pandas as pd\n",
    "import colorsys as color\n",
    "import scipy.io.wavfile as wav"
   ]
  },
  {
   "cell_type": "code",
   "execution_count": 2,
   "id": "9Cu8zjM7VsmA",
   "metadata": {
    "executionInfo": {
     "elapsed": 4,
     "status": "ok",
     "timestamp": 1716902127274,
     "user": {
      "displayName": "Ramiro Irastorza",
      "userId": "11166984441022487147"
     },
     "user_tz": 180
    },
    "id": "9Cu8zjM7VsmA"
   },
   "outputs": [],
   "source": [
    "import simpleaudio as sa"
   ]
  },
  {
   "cell_type": "code",
   "execution_count": 10,
   "id": "k6oVKUM9VMgT",
   "metadata": {
    "executionInfo": {
     "elapsed": 2582,
     "status": "ok",
     "timestamp": 1716903026073,
     "user": {
      "displayName": "Ramiro Irastorza",
      "userId": "11166984441022487147"
     },
     "user_tz": 180
    },
    "id": "k6oVKUM9VMgT"
   },
   "outputs": [
    {
     "name": "stdout",
     "output_type": "stream",
     "text": [
      "Escriba la direccion de la imagen (usted esta en /home/tomas/Escritorio/HCC) fondo.jpg\n",
      "Escriba si quiere utilizar la escala menor [m] o mayor [M] [Default = M] M\n",
      "Escriba el nombre del archivo de salida fondo\n"
     ]
    }
   ],
   "source": [
    "%%capture --no-stdout\n",
    "#Primero utilizamos una funcion que permite obtener los valores RGB de la imagen para cada pixel\n",
    "            \n",
    "def obtener_valores_rgb(path):\n",
    "    imagen = Image.open(path)\n",
    "    ancho, alto = imagen.size\n",
    "    valores_rgb = []\n",
    "\n",
    "    for y in range(alto):\n",
    "        for x in range(ancho):\n",
    "            r, g, b = imagen.getpixel((x, y))\n",
    "            valores_rgb.append((r, g, b))\n",
    "\n",
    "    return valores_rgb, ancho, alto #Extraemos la lista de valores rgb y el ancho y alto de la imagen en pixels\n",
    "\n",
    "#Ponemos la imagen que queremos abrir\n",
    "dir_actual = os.getcwd()\n",
    "path = input(f'Escriba la direccion de la imagen (usted esta en {dir_actual}) ')\n",
    "mayor_o_menor = input(f'Escriba si quiere utilizar la escala menor [m] o mayor [M] [Default = M] ')\n",
    "nombre = input('Escriba el nombre del archivo de salida ')\n",
    "try:\n",
    "    valores_rgb, ancho_imagen, alto_imagen = obtener_valores_rgb(path)\n",
    "\n",
    "\n",
    "\n",
    "    df =pd.DataFrame(valores_rgb, columns=['Red','Green','Blue']) #Convertimos la lista de tuplas a un DataFrame de pandas\n",
    "\n",
    "    #Queremos asignar un sonido por color, por lo cual nos es conveniente pasar al sistema hls de clasificacion de color\n",
    "    #Este tiene tres parametros: Matiz (Hue), Saturación(Saturation) y Luminosidad (Luminosity). Nos interesa el matiz\n",
    "    matiz=[]\n",
    "    saturacion=[]\n",
    "    valor=[]\n",
    "    for i in df.index:\n",
    "        h, s, v = color.rgb_to_hsv(df['Red'][i], df['Green'][i], df['Blue'][i]) #Usamos la libreria colorsys que ya tiene la transformacion programada\n",
    "\n",
    "        matiz.append(h)\n",
    "        saturacion.append(s)\n",
    "        valor.append(v)\n",
    "\n",
    "    df['Matiz'] = matiz\n",
    "    df['Saturacion'] = saturacion\n",
    "    df['Valor'] = valor\n",
    "\n",
    "\n",
    "\n",
    "    #Ahora, convertimos matiz a frecuencia con una regla de 3 simple\n",
    "    df['Frecuencia del pixel']=(df['Matiz']*(2100-150)+150)  #Multiplicamos para llevar a unidades de frecuencia\n",
    "    #Escalamos los matices mas cercanos a 0 a una frecuecia minima de 150 y los matices cercanos a 1 aproximadamente a la frecuencia de Do 7 (2093,01)\n",
    "\n",
    "    #Cuando tenemos una amplia gama de frecuencias desfazadas el sonido es bastante caotico y poco agradable.\n",
    "    #Es por eso que fijamos una lista de frecuencias correspondientes a las notas del acorde de Do mayor en distintas alturas.\n",
    "\n",
    "\n",
    "    \n",
    "    Mi3 = 164.914\n",
    "    Mib3 = 155.563\n",
    "    Do4 = 261.63\n",
    "    Sol4 = 391.995\n",
    "    Si4 = 493.883\n",
    "    Sib4 = 466.164\n",
    "\n",
    "    frecuencias_mayores=[Mi3,Do4,Mi3*2,Sol4,Si4,Do4*2,Mi3*4,Sol4*2,Si4*2,Do4*4,Mi3*8,Sol4*4,Si4*4,Do4*8]\n",
    "\n",
    "    frecuencias_menores=[Mib3,Do4,Mib3*2,Sol4,Sib4,Do4*2,Mib3*4,Sol4*2,Sib4*2,Do4*4,Mib3*8,Sol4*4,Sib4*4,Do4*8]\n",
    "\n",
    "    #Admito que con esto perdemos mucha informacion de los colores particulares, pero la misma puede recuperarse añadiendo mas frecuencias a la lista\n",
    "\n",
    "    #Nuestro dataframe recorre la imagen de izquierda a derecha por renglon. Al convertirla a sonido queremos que recorra\n",
    "    #todos los renglones a la vez de izquierda a derecha. Es por eso que dividimos nuestro dataframe en cada fila de pixeles\n",
    "    numero_de_filas_de_pixeles=int(len(df)/ancho_imagen)\n",
    "    df_filas=pd.DataFrame()\n",
    "    for i in range(numero_de_filas_de_pixeles):\n",
    "        df_filas[f'Fila {i}']=list(df['Frecuencia del pixel'][i*ancho_imagen:(i+1)*ancho_imagen])\n",
    "\n",
    "    #Otro gran problema es que en una imagen de miles de pixeles de ancho y alto el costo de calcular se hace alto.\n",
    "    #Por eso tomamos la simplificacion de calcular la frecuencia promedio de un conjunto de pixeles.\n",
    "\n",
    "    pixeles_por_nota=2 #Toma los pixeles de una columna en conjuntos de N\n",
    "    agrupacion_de_pixeles = numero_de_filas_de_pixeles/pixeles_por_nota\n",
    "    df_cortado = np.hsplit(df_filas, agrupacion_de_pixeles)\n",
    "\n",
    "\n",
    "\n",
    "    df_reducido=df_cortado.copy()\n",
    "\n",
    "    for i in range(int(agrupacion_de_pixeles)):\n",
    "        # Ahora calculamos el valor medio por fila y crea una nueva columna con el resultado\n",
    "        filas=df_cortado[i].columns\n",
    "        df_cortado[i][f'Media {i}'] = df_cortado[i].mean(axis=1)\n",
    "        # Eliminamos las columnas originales y nos quedamos con este valor promedio como el representativo de esos N pixeles\n",
    "        df_reducido[i] = df_cortado[i].drop(filas, axis=1)\n",
    "\n",
    "    resultado = pd.concat(df_reducido, axis=1) #Y volvemos a unir los conjuntos de pixeles ahora reducidos\n",
    "    #Asi pasamos de tener AAAxBBB pixeles que calcular a tener AAA/N x BBB pixeles que calcular\n",
    "\n",
    "    #Ahora entran en juego las frecuencias que fijamos en \"lista_de_frecuencias\"\n",
    "\n",
    "    def encontrar_mas_cercano(valor, lista):\n",
    "        #Esta funcion busca la frecuencia en la lista que mas se acerque a la frecuencia del pixel\n",
    "        array_lista = np.array(lista)\n",
    "        indice = (np.abs(array_lista - valor)).argmin()\n",
    "        return lista[indice]\n",
    "\n",
    "    def reemplazar_cercano(valor, lista):\n",
    "        #Y esta funcion se encarga de reemplazar la frecuencia original por la que mas se parecia\n",
    "        mas_cercano = encontrar_mas_cercano(valor, lista)\n",
    "        return mas_cercano\n",
    "\n",
    "    #Aplicamos directamente a nuestro dataframe\n",
    "    if mayor_o_menor == \"m\":\n",
    "    \n",
    "        df_reemplazado = resultado.applymap(lambda x: reemplazar_cercano(x, frecuencias_menores))\n",
    "    else:\n",
    "        df_reemplazado = resultado.applymap(lambda x: reemplazar_cercano(x, frecuencias_mayores))\n",
    "\n",
    "    # Momento de hacer el sonido\n",
    "\n",
    "    sample_rate= 44100   #La frecuencia de muestreo es el numero de muestras por segundo para crear una señal discreta de sonido\n",
    "    T = .11 # Tiempo en segundos que suena cada columna de pixeles\n",
    "    t = np.linspace(0, T, int(T * sample_rate), False)   #Creamos un linspace para ajustar funciones seno que representan los sonidos de cada nota\n",
    "\n",
    "\n",
    "    df_notas=df_reemplazado.copy()\n",
    "\n",
    "    audio=np.zeros(ancho_imagen*len(t)) ##Audio es un array de numpy que simpleaudio utiliza para generar el sonido\n",
    "    #Nosotros lo creamos con un tamaño del numero de pixels por fila por la cantidad de puntos que definen la forma funcion de onda\n",
    "    #(dado que cada pixel tiene su propia funcion de onda formada por \"int(T * sample_rate)\" puntos)\n",
    "\n",
    "    for filas in df_notas.columns:\n",
    "        notas=[]\n",
    "        for columnas in range(ancho_imagen):\n",
    "            notas.append(np.sin(df_notas[filas][columnas] * t * 2 * np.pi)) #notas sera una lista de todas las notas en una fila,\n",
    "            #representada por un array de puntos que forman la longitud de onda\n",
    "\n",
    "        audio += np.hstack(notas) #En audio sumamos el efecto de cada nota, lo que hacemos es sumar todas las notas de una misma columna\n",
    "        #que, por superposicion de ondas, formaran la armonia que representa a esa columna de la imagen\n",
    "\n",
    "\n",
    "    #Transformaciones que utiliza simpleaudio para pasar el sonido a 16bit, no entiendo completamente, pero formaba parte del instructivo\n",
    "    audio *= 32767 / np.max(np.abs(audio))\n",
    "    audio = audio.astype(np.int16)\n",
    "\n",
    "    from scipy.io.wavfile import write\n",
    "\n",
    "    scaled = audio\n",
    "    write(f'{nombre}.wav', sample_rate, scaled)\n",
    "    \n",
    "\n",
    "    ##Finalmente reproducimos el audio igual que en los modelos de simpleaudio\n",
    "    #play_obj = sa.play_buffer(audio, 1, 2, sample_rate)\n",
    "    #play_obj.wait_done()\n",
    "except FileNotFoundError:\n",
    "    print()\n",
    "    print('El archivo no existe o la ubicacion es incorrecta, intente nuevamente.')"
   ]
  },
  {
   "cell_type": "code",
   "execution_count": 11,
   "id": "Q6gofKcwW5s3",
   "metadata": {
    "colab": {
     "base_uri": "https://localhost:8080/"
    },
    "executionInfo": {
     "elapsed": 301,
     "status": "ok",
     "timestamp": 1716902406746,
     "user": {
      "displayName": "Ramiro Irastorza",
      "userId": "11166984441022487147"
     },
     "user_tz": 180
    },
    "id": "Q6gofKcwW5s3",
    "outputId": "5addb91c-01d4-42c5-ef21-d8d97122af7f",
    "scrolled": false
   },
   "outputs": [
    {
     "name": "stdout",
     "output_type": "stream",
     "text": [
      "[    0  5228 10168 ... 13458 13798 13305]\n"
     ]
    }
   ],
   "source": [
    "print(audio)"
   ]
  },
  {
   "cell_type": "code",
   "execution_count": 6,
   "id": "efdb3aa0",
   "metadata": {},
   "outputs": [
    {
     "data": {
      "text/plain": [
       "array([0.00000000e+00, 2.26757370e-05, 4.53514739e-05, ...,\n",
       "       1.09931973e-01, 1.09954649e-01, 1.09977324e-01])"
      ]
     },
     "execution_count": 6,
     "metadata": {},
     "output_type": "execute_result"
    }
   ],
   "source": [
    "t"
   ]
  }
 ],
 "metadata": {
  "colab": {
   "provenance": []
  },
  "kernelspec": {
   "display_name": "Python 3 (ipykernel)",
   "language": "python",
   "name": "python3"
  },
  "language_info": {
   "codemirror_mode": {
    "name": "ipython",
    "version": 3
   },
   "file_extension": ".py",
   "mimetype": "text/x-python",
   "name": "python",
   "nbconvert_exporter": "python",
   "pygments_lexer": "ipython3",
   "version": "3.11.0"
  }
 },
 "nbformat": 4,
 "nbformat_minor": 5
}
